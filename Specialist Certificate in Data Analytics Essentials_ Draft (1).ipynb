{
 "cells": [
  {
   "cell_type": "markdown",
   "id": "da767aa8",
   "metadata": {},
   "source": [
    "# IMPORTS"
   ]
  },
  {
   "cell_type": "markdown",
   "id": "751e579e",
   "metadata": {},
   "source": [
    "# Import Libaries"
   ]
  },
  {
   "cell_type": "code",
   "execution_count": 2,
   "id": "5308ba6c",
   "metadata": {},
   "outputs": [],
   "source": [
    "#import libaries\n",
    "import os\n",
    "import numpy as np\n",
    "import pandas as pd\n",
    "import re\n",
    "import datetime as dt\n",
    "import matplotlib.pyplot as plt\n",
    "import seaborn as sns"
   ]
  },
  {
   "cell_type": "markdown",
   "id": "9a58c795",
   "metadata": {},
   "source": [
    "# Import data"
   ]
  },
  {
   "cell_type": "code",
   "execution_count": 3,
   "id": "d8cd908e",
   "metadata": {},
   "outputs": [],
   "source": [
    "#Your project should make use of one or more of the following: Relational database, API or web scraping (10)"
   ]
  },
  {
   "cell_type": "code",
   "execution_count": 4,
   "id": "7a17b4f4",
   "metadata": {},
   "outputs": [],
   "source": [
    "#Import a CSV file into a Pandas DataFrame (10)"
   ]
  },
  {
   "cell_type": "code",
   "execution_count": 5,
   "id": "27ab47fb",
   "metadata": {},
   "outputs": [],
   "source": [
    "pay_gap=pd.read_csv(\"Glassdoor Gender Pay Gap.csv\")"
   ]
  },
  {
   "cell_type": "code",
   "execution_count": 6,
   "id": "f081b338",
   "metadata": {},
   "outputs": [
    {
     "data": {
      "text/html": [
       "<div>\n",
       "<style scoped>\n",
       "    .dataframe tbody tr th:only-of-type {\n",
       "        vertical-align: middle;\n",
       "    }\n",
       "\n",
       "    .dataframe tbody tr th {\n",
       "        vertical-align: top;\n",
       "    }\n",
       "\n",
       "    .dataframe thead th {\n",
       "        text-align: right;\n",
       "    }\n",
       "</style>\n",
       "<table border=\"1\" class=\"dataframe\">\n",
       "  <thead>\n",
       "    <tr style=\"text-align: right;\">\n",
       "      <th></th>\n",
       "      <th>JobTitle</th>\n",
       "      <th>Gender</th>\n",
       "      <th>Age</th>\n",
       "      <th>PerfEval</th>\n",
       "      <th>Education</th>\n",
       "      <th>Dept</th>\n",
       "      <th>Seniority</th>\n",
       "      <th>BasePay</th>\n",
       "      <th>Bonus</th>\n",
       "    </tr>\n",
       "  </thead>\n",
       "  <tbody>\n",
       "    <tr>\n",
       "      <th>0</th>\n",
       "      <td>Graphic Designer</td>\n",
       "      <td>Female</td>\n",
       "      <td>18</td>\n",
       "      <td>5</td>\n",
       "      <td>College</td>\n",
       "      <td>Operations</td>\n",
       "      <td>2</td>\n",
       "      <td>42363</td>\n",
       "      <td>9938</td>\n",
       "    </tr>\n",
       "    <tr>\n",
       "      <th>1</th>\n",
       "      <td>Software Engineer</td>\n",
       "      <td>Male</td>\n",
       "      <td>21</td>\n",
       "      <td>5</td>\n",
       "      <td>College</td>\n",
       "      <td>Management</td>\n",
       "      <td>5</td>\n",
       "      <td>108476</td>\n",
       "      <td>11128</td>\n",
       "    </tr>\n",
       "    <tr>\n",
       "      <th>2</th>\n",
       "      <td>Warehouse Associate</td>\n",
       "      <td>Female</td>\n",
       "      <td>19</td>\n",
       "      <td>4</td>\n",
       "      <td>PhD</td>\n",
       "      <td>Administration</td>\n",
       "      <td>5</td>\n",
       "      <td>90208</td>\n",
       "      <td>9268</td>\n",
       "    </tr>\n",
       "    <tr>\n",
       "      <th>3</th>\n",
       "      <td>Software Engineer</td>\n",
       "      <td>Male</td>\n",
       "      <td>20</td>\n",
       "      <td>5</td>\n",
       "      <td>Masters</td>\n",
       "      <td>Sales</td>\n",
       "      <td>4</td>\n",
       "      <td>108080</td>\n",
       "      <td>10154</td>\n",
       "    </tr>\n",
       "    <tr>\n",
       "      <th>4</th>\n",
       "      <td>Graphic Designer</td>\n",
       "      <td>Male</td>\n",
       "      <td>26</td>\n",
       "      <td>5</td>\n",
       "      <td>Masters</td>\n",
       "      <td>Engineering</td>\n",
       "      <td>5</td>\n",
       "      <td>99464</td>\n",
       "      <td>9319</td>\n",
       "    </tr>\n",
       "  </tbody>\n",
       "</table>\n",
       "</div>"
      ],
      "text/plain": [
       "              JobTitle  Gender  Age  PerfEval Education            Dept  \\\n",
       "0     Graphic Designer  Female   18         5   College      Operations   \n",
       "1    Software Engineer    Male   21         5   College      Management   \n",
       "2  Warehouse Associate  Female   19         4       PhD  Administration   \n",
       "3    Software Engineer    Male   20         5   Masters           Sales   \n",
       "4     Graphic Designer    Male   26         5   Masters     Engineering   \n",
       "\n",
       "   Seniority  BasePay  Bonus  \n",
       "0          2    42363   9938  \n",
       "1          5   108476  11128  \n",
       "2          5    90208   9268  \n",
       "3          4   108080  10154  \n",
       "4          5    99464   9319  "
      ]
     },
     "execution_count": 6,
     "metadata": {},
     "output_type": "execute_result"
    }
   ],
   "source": [
    "pay_gap.head()"
   ]
  },
  {
   "cell_type": "code",
   "execution_count": 7,
   "id": "59ee6427",
   "metadata": {},
   "outputs": [
    {
     "name": "stdout",
     "output_type": "stream",
     "text": [
      "<class 'pandas.core.frame.DataFrame'>\n",
      "RangeIndex: 1000 entries, 0 to 999\n",
      "Data columns (total 9 columns):\n",
      " #   Column     Non-Null Count  Dtype \n",
      "---  ------     --------------  ----- \n",
      " 0   JobTitle   1000 non-null   object\n",
      " 1   Gender     1000 non-null   object\n",
      " 2   Age        1000 non-null   int64 \n",
      " 3   PerfEval   1000 non-null   int64 \n",
      " 4   Education  1000 non-null   object\n",
      " 5   Dept       1000 non-null   object\n",
      " 6   Seniority  1000 non-null   int64 \n",
      " 7   BasePay    1000 non-null   int64 \n",
      " 8   Bonus      1000 non-null   int64 \n",
      "dtypes: int64(5), object(4)\n",
      "memory usage: 70.4+ KB\n"
     ]
    }
   ],
   "source": [
    "#check the type of dataframe and if any null values in the datframe\n",
    "pay_gap.info()"
   ]
  },
  {
   "cell_type": "code",
   "execution_count": 8,
   "id": "ea7b76ff",
   "metadata": {},
   "outputs": [
    {
     "data": {
      "text/plain": [
       "JobTitle     False\n",
       "Gender       False\n",
       "Age          False\n",
       "PerfEval     False\n",
       "Education    False\n",
       "Dept         False\n",
       "Seniority    False\n",
       "BasePay      False\n",
       "Bonus        False\n",
       "dtype: bool"
      ]
     },
     "execution_count": 8,
     "metadata": {},
     "output_type": "execute_result"
    }
   ],
   "source": [
    "#check for regular null values\n",
    "pay_gap.isnull().any()"
   ]
  },
  {
   "cell_type": "code",
   "execution_count": 9,
   "id": "f64575fb",
   "metadata": {},
   "outputs": [],
   "source": [
    "# noted no null values in the data, therefore blanks do not need to be replaced. However, had planks needed to be replaced\n",
    "# fillna function would have been used: pay_gap = pay_gap.fillna(\"unknown\")"
   ]
  },
  {
   "cell_type": "code",
   "execution_count": 10,
   "id": "811ceaa0",
   "metadata": {},
   "outputs": [
    {
     "data": {
      "text/plain": [
       "array(['Graphic Designer', 'Software Engineer', 'Warehouse Associate',\n",
       "       'IT', 'Sales Associate', 'Driver', 'Financial Analyst',\n",
       "       'Marketing Associate', 'Data Scientist', 'Manager'], dtype=object)"
      ]
     },
     "execution_count": 10,
     "metadata": {},
     "output_type": "execute_result"
    }
   ],
   "source": [
    "#look at dataframe for unique Job titles\n",
    "pay_gap['JobTitle'].unique()"
   ]
  },
  {
   "cell_type": "code",
   "execution_count": 11,
   "id": "af3e79bc",
   "metadata": {},
   "outputs": [
    {
     "data": {
      "text/plain": [
       "array([2, 5, 4, 3, 1], dtype=int64)"
      ]
     },
     "execution_count": 11,
     "metadata": {},
     "output_type": "execute_result"
    }
   ],
   "source": [
    "#look at dataframe for unique Seniority\n",
    "pay_gap['Seniority'].unique()"
   ]
  },
  {
   "cell_type": "code",
   "execution_count": 12,
   "id": "079f3195",
   "metadata": {},
   "outputs": [
    {
     "data": {
      "text/plain": [
       "array(['Female', 'Male'], dtype=object)"
      ]
     },
     "execution_count": 12,
     "metadata": {},
     "output_type": "execute_result"
    }
   ],
   "source": [
    "#look at dataframe for unique Gender\n",
    "pay_gap['Gender'].unique()"
   ]
  },
  {
   "cell_type": "code",
   "execution_count": 13,
   "id": "6cc0a0fd",
   "metadata": {},
   "outputs": [
    {
     "data": {
      "text/html": [
       "<div>\n",
       "<style scoped>\n",
       "    .dataframe tbody tr th:only-of-type {\n",
       "        vertical-align: middle;\n",
       "    }\n",
       "\n",
       "    .dataframe tbody tr th {\n",
       "        vertical-align: top;\n",
       "    }\n",
       "\n",
       "    .dataframe thead th {\n",
       "        text-align: right;\n",
       "    }\n",
       "</style>\n",
       "<table border=\"1\" class=\"dataframe\">\n",
       "  <thead>\n",
       "    <tr style=\"text-align: right;\">\n",
       "      <th></th>\n",
       "      <th>Age</th>\n",
       "      <th>PerfEval</th>\n",
       "      <th>Seniority</th>\n",
       "      <th>BasePay</th>\n",
       "      <th>Bonus</th>\n",
       "    </tr>\n",
       "  </thead>\n",
       "  <tbody>\n",
       "    <tr>\n",
       "      <th>count</th>\n",
       "      <td>1000.000000</td>\n",
       "      <td>1000.000000</td>\n",
       "      <td>1000.000000</td>\n",
       "      <td>1000.000000</td>\n",
       "      <td>1000.000000</td>\n",
       "    </tr>\n",
       "    <tr>\n",
       "      <th>mean</th>\n",
       "      <td>41.393000</td>\n",
       "      <td>3.037000</td>\n",
       "      <td>2.971000</td>\n",
       "      <td>94472.653000</td>\n",
       "      <td>6467.161000</td>\n",
       "    </tr>\n",
       "    <tr>\n",
       "      <th>std</th>\n",
       "      <td>14.294856</td>\n",
       "      <td>1.423959</td>\n",
       "      <td>1.395029</td>\n",
       "      <td>25337.493272</td>\n",
       "      <td>2004.377365</td>\n",
       "    </tr>\n",
       "    <tr>\n",
       "      <th>min</th>\n",
       "      <td>18.000000</td>\n",
       "      <td>1.000000</td>\n",
       "      <td>1.000000</td>\n",
       "      <td>34208.000000</td>\n",
       "      <td>1703.000000</td>\n",
       "    </tr>\n",
       "    <tr>\n",
       "      <th>25%</th>\n",
       "      <td>29.000000</td>\n",
       "      <td>2.000000</td>\n",
       "      <td>2.000000</td>\n",
       "      <td>76850.250000</td>\n",
       "      <td>4849.500000</td>\n",
       "    </tr>\n",
       "    <tr>\n",
       "      <th>50%</th>\n",
       "      <td>41.000000</td>\n",
       "      <td>3.000000</td>\n",
       "      <td>3.000000</td>\n",
       "      <td>93327.500000</td>\n",
       "      <td>6507.000000</td>\n",
       "    </tr>\n",
       "    <tr>\n",
       "      <th>75%</th>\n",
       "      <td>54.250000</td>\n",
       "      <td>4.000000</td>\n",
       "      <td>4.000000</td>\n",
       "      <td>111558.000000</td>\n",
       "      <td>8026.000000</td>\n",
       "    </tr>\n",
       "    <tr>\n",
       "      <th>max</th>\n",
       "      <td>65.000000</td>\n",
       "      <td>5.000000</td>\n",
       "      <td>5.000000</td>\n",
       "      <td>179726.000000</td>\n",
       "      <td>11293.000000</td>\n",
       "    </tr>\n",
       "  </tbody>\n",
       "</table>\n",
       "</div>"
      ],
      "text/plain": [
       "               Age     PerfEval    Seniority        BasePay         Bonus\n",
       "count  1000.000000  1000.000000  1000.000000    1000.000000   1000.000000\n",
       "mean     41.393000     3.037000     2.971000   94472.653000   6467.161000\n",
       "std      14.294856     1.423959     1.395029   25337.493272   2004.377365\n",
       "min      18.000000     1.000000     1.000000   34208.000000   1703.000000\n",
       "25%      29.000000     2.000000     2.000000   76850.250000   4849.500000\n",
       "50%      41.000000     3.000000     3.000000   93327.500000   6507.000000\n",
       "75%      54.250000     4.000000     4.000000  111558.000000   8026.000000\n",
       "max      65.000000     5.000000     5.000000  179726.000000  11293.000000"
      ]
     },
     "execution_count": 13,
     "metadata": {},
     "output_type": "execute_result"
    }
   ],
   "source": [
    "pay_gap.describe()"
   ]
  },
  {
   "cell_type": "code",
   "execution_count": 14,
   "id": "1a09b7a9",
   "metadata": {},
   "outputs": [],
   "source": [
    "#Combine the Basepay & Bonus pay to assist with analysis"
   ]
  },
  {
   "cell_type": "code",
   "execution_count": 15,
   "id": "fae9346e",
   "metadata": {},
   "outputs": [],
   "source": [
    "pay_gap['TotalPay'] = pay_gap['BasePay'] + pay_gap['Bonus']"
   ]
  },
  {
   "cell_type": "code",
   "execution_count": 16,
   "id": "1cb8620b",
   "metadata": {},
   "outputs": [
    {
     "data": {
      "text/html": [
       "<div>\n",
       "<style scoped>\n",
       "    .dataframe tbody tr th:only-of-type {\n",
       "        vertical-align: middle;\n",
       "    }\n",
       "\n",
       "    .dataframe tbody tr th {\n",
       "        vertical-align: top;\n",
       "    }\n",
       "\n",
       "    .dataframe thead th {\n",
       "        text-align: right;\n",
       "    }\n",
       "</style>\n",
       "<table border=\"1\" class=\"dataframe\">\n",
       "  <thead>\n",
       "    <tr style=\"text-align: right;\">\n",
       "      <th></th>\n",
       "      <th>JobTitle</th>\n",
       "      <th>Gender</th>\n",
       "      <th>Age</th>\n",
       "      <th>PerfEval</th>\n",
       "      <th>Education</th>\n",
       "      <th>Dept</th>\n",
       "      <th>Seniority</th>\n",
       "      <th>BasePay</th>\n",
       "      <th>Bonus</th>\n",
       "      <th>TotalPay</th>\n",
       "    </tr>\n",
       "  </thead>\n",
       "  <tbody>\n",
       "    <tr>\n",
       "      <th>0</th>\n",
       "      <td>Graphic Designer</td>\n",
       "      <td>Female</td>\n",
       "      <td>18</td>\n",
       "      <td>5</td>\n",
       "      <td>College</td>\n",
       "      <td>Operations</td>\n",
       "      <td>2</td>\n",
       "      <td>42363</td>\n",
       "      <td>9938</td>\n",
       "      <td>52301</td>\n",
       "    </tr>\n",
       "    <tr>\n",
       "      <th>1</th>\n",
       "      <td>Software Engineer</td>\n",
       "      <td>Male</td>\n",
       "      <td>21</td>\n",
       "      <td>5</td>\n",
       "      <td>College</td>\n",
       "      <td>Management</td>\n",
       "      <td>5</td>\n",
       "      <td>108476</td>\n",
       "      <td>11128</td>\n",
       "      <td>119604</td>\n",
       "    </tr>\n",
       "    <tr>\n",
       "      <th>2</th>\n",
       "      <td>Warehouse Associate</td>\n",
       "      <td>Female</td>\n",
       "      <td>19</td>\n",
       "      <td>4</td>\n",
       "      <td>PhD</td>\n",
       "      <td>Administration</td>\n",
       "      <td>5</td>\n",
       "      <td>90208</td>\n",
       "      <td>9268</td>\n",
       "      <td>99476</td>\n",
       "    </tr>\n",
       "    <tr>\n",
       "      <th>3</th>\n",
       "      <td>Software Engineer</td>\n",
       "      <td>Male</td>\n",
       "      <td>20</td>\n",
       "      <td>5</td>\n",
       "      <td>Masters</td>\n",
       "      <td>Sales</td>\n",
       "      <td>4</td>\n",
       "      <td>108080</td>\n",
       "      <td>10154</td>\n",
       "      <td>118234</td>\n",
       "    </tr>\n",
       "    <tr>\n",
       "      <th>4</th>\n",
       "      <td>Graphic Designer</td>\n",
       "      <td>Male</td>\n",
       "      <td>26</td>\n",
       "      <td>5</td>\n",
       "      <td>Masters</td>\n",
       "      <td>Engineering</td>\n",
       "      <td>5</td>\n",
       "      <td>99464</td>\n",
       "      <td>9319</td>\n",
       "      <td>108783</td>\n",
       "    </tr>\n",
       "    <tr>\n",
       "      <th>...</th>\n",
       "      <td>...</td>\n",
       "      <td>...</td>\n",
       "      <td>...</td>\n",
       "      <td>...</td>\n",
       "      <td>...</td>\n",
       "      <td>...</td>\n",
       "      <td>...</td>\n",
       "      <td>...</td>\n",
       "      <td>...</td>\n",
       "      <td>...</td>\n",
       "    </tr>\n",
       "    <tr>\n",
       "      <th>995</th>\n",
       "      <td>Marketing Associate</td>\n",
       "      <td>Female</td>\n",
       "      <td>61</td>\n",
       "      <td>1</td>\n",
       "      <td>High School</td>\n",
       "      <td>Administration</td>\n",
       "      <td>1</td>\n",
       "      <td>62644</td>\n",
       "      <td>3270</td>\n",
       "      <td>65914</td>\n",
       "    </tr>\n",
       "    <tr>\n",
       "      <th>996</th>\n",
       "      <td>Data Scientist</td>\n",
       "      <td>Male</td>\n",
       "      <td>57</td>\n",
       "      <td>1</td>\n",
       "      <td>Masters</td>\n",
       "      <td>Sales</td>\n",
       "      <td>2</td>\n",
       "      <td>108977</td>\n",
       "      <td>3567</td>\n",
       "      <td>112544</td>\n",
       "    </tr>\n",
       "    <tr>\n",
       "      <th>997</th>\n",
       "      <td>Financial Analyst</td>\n",
       "      <td>Male</td>\n",
       "      <td>48</td>\n",
       "      <td>1</td>\n",
       "      <td>High School</td>\n",
       "      <td>Operations</td>\n",
       "      <td>1</td>\n",
       "      <td>92347</td>\n",
       "      <td>2724</td>\n",
       "      <td>95071</td>\n",
       "    </tr>\n",
       "    <tr>\n",
       "      <th>998</th>\n",
       "      <td>Financial Analyst</td>\n",
       "      <td>Male</td>\n",
       "      <td>65</td>\n",
       "      <td>2</td>\n",
       "      <td>High School</td>\n",
       "      <td>Administration</td>\n",
       "      <td>1</td>\n",
       "      <td>97376</td>\n",
       "      <td>2225</td>\n",
       "      <td>99601</td>\n",
       "    </tr>\n",
       "    <tr>\n",
       "      <th>999</th>\n",
       "      <td>Financial Analyst</td>\n",
       "      <td>Male</td>\n",
       "      <td>60</td>\n",
       "      <td>1</td>\n",
       "      <td>PhD</td>\n",
       "      <td>Sales</td>\n",
       "      <td>2</td>\n",
       "      <td>123108</td>\n",
       "      <td>2244</td>\n",
       "      <td>125352</td>\n",
       "    </tr>\n",
       "  </tbody>\n",
       "</table>\n",
       "<p>1000 rows × 10 columns</p>\n",
       "</div>"
      ],
      "text/plain": [
       "                JobTitle  Gender  Age  PerfEval    Education            Dept  \\\n",
       "0       Graphic Designer  Female   18         5      College      Operations   \n",
       "1      Software Engineer    Male   21         5      College      Management   \n",
       "2    Warehouse Associate  Female   19         4          PhD  Administration   \n",
       "3      Software Engineer    Male   20         5      Masters           Sales   \n",
       "4       Graphic Designer    Male   26         5      Masters     Engineering   \n",
       "..                   ...     ...  ...       ...          ...             ...   \n",
       "995  Marketing Associate  Female   61         1  High School  Administration   \n",
       "996       Data Scientist    Male   57         1      Masters           Sales   \n",
       "997    Financial Analyst    Male   48         1  High School      Operations   \n",
       "998    Financial Analyst    Male   65         2  High School  Administration   \n",
       "999    Financial Analyst    Male   60         1          PhD           Sales   \n",
       "\n",
       "     Seniority  BasePay  Bonus  TotalPay  \n",
       "0            2    42363   9938     52301  \n",
       "1            5   108476  11128    119604  \n",
       "2            5    90208   9268     99476  \n",
       "3            4   108080  10154    118234  \n",
       "4            5    99464   9319    108783  \n",
       "..         ...      ...    ...       ...  \n",
       "995          1    62644   3270     65914  \n",
       "996          2   108977   3567    112544  \n",
       "997          1    92347   2724     95071  \n",
       "998          1    97376   2225     99601  \n",
       "999          2   123108   2244    125352  \n",
       "\n",
       "[1000 rows x 10 columns]"
      ]
     },
     "execution_count": 16,
     "metadata": {},
     "output_type": "execute_result"
    }
   ],
   "source": [
    "pay_gap"
   ]
  },
  {
   "cell_type": "code",
   "execution_count": 17,
   "id": "9ee7fdcd",
   "metadata": {},
   "outputs": [],
   "source": [
    "#organise the data in alphabetical order using Job Title\n",
    "pay_gap = pay_gap.sort_values(by=[\"JobTitle\"], ascending=True)"
   ]
  },
  {
   "cell_type": "code",
   "execution_count": 18,
   "id": "b7ca1407",
   "metadata": {},
   "outputs": [
    {
     "data": {
      "text/html": [
       "<div>\n",
       "<style scoped>\n",
       "    .dataframe tbody tr th:only-of-type {\n",
       "        vertical-align: middle;\n",
       "    }\n",
       "\n",
       "    .dataframe tbody tr th {\n",
       "        vertical-align: top;\n",
       "    }\n",
       "\n",
       "    .dataframe thead th {\n",
       "        text-align: right;\n",
       "    }\n",
       "</style>\n",
       "<table border=\"1\" class=\"dataframe\">\n",
       "  <thead>\n",
       "    <tr style=\"text-align: right;\">\n",
       "      <th></th>\n",
       "      <th>JobTitle</th>\n",
       "      <th>Gender</th>\n",
       "      <th>Age</th>\n",
       "      <th>PerfEval</th>\n",
       "      <th>Education</th>\n",
       "      <th>Dept</th>\n",
       "      <th>Seniority</th>\n",
       "      <th>BasePay</th>\n",
       "      <th>Bonus</th>\n",
       "      <th>TotalPay</th>\n",
       "    </tr>\n",
       "  </thead>\n",
       "  <tbody>\n",
       "    <tr>\n",
       "      <th>574</th>\n",
       "      <td>Data Scientist</td>\n",
       "      <td>Male</td>\n",
       "      <td>56</td>\n",
       "      <td>3</td>\n",
       "      <td>Masters</td>\n",
       "      <td>Engineering</td>\n",
       "      <td>3</td>\n",
       "      <td>98165</td>\n",
       "      <td>5470</td>\n",
       "      <td>103635</td>\n",
       "    </tr>\n",
       "    <tr>\n",
       "      <th>456</th>\n",
       "      <td>Data Scientist</td>\n",
       "      <td>Female</td>\n",
       "      <td>55</td>\n",
       "      <td>3</td>\n",
       "      <td>Masters</td>\n",
       "      <td>Administration</td>\n",
       "      <td>4</td>\n",
       "      <td>123172</td>\n",
       "      <td>5797</td>\n",
       "      <td>128969</td>\n",
       "    </tr>\n",
       "    <tr>\n",
       "      <th>265</th>\n",
       "      <td>Data Scientist</td>\n",
       "      <td>Female</td>\n",
       "      <td>29</td>\n",
       "      <td>4</td>\n",
       "      <td>High School</td>\n",
       "      <td>Engineering</td>\n",
       "      <td>3</td>\n",
       "      <td>84021</td>\n",
       "      <td>9111</td>\n",
       "      <td>93132</td>\n",
       "    </tr>\n",
       "    <tr>\n",
       "      <th>264</th>\n",
       "      <td>Data Scientist</td>\n",
       "      <td>Male</td>\n",
       "      <td>53</td>\n",
       "      <td>5</td>\n",
       "      <td>High School</td>\n",
       "      <td>Management</td>\n",
       "      <td>2</td>\n",
       "      <td>102910</td>\n",
       "      <td>8335</td>\n",
       "      <td>111245</td>\n",
       "    </tr>\n",
       "    <tr>\n",
       "      <th>454</th>\n",
       "      <td>Data Scientist</td>\n",
       "      <td>Male</td>\n",
       "      <td>41</td>\n",
       "      <td>3</td>\n",
       "      <td>Masters</td>\n",
       "      <td>Administration</td>\n",
       "      <td>4</td>\n",
       "      <td>104314</td>\n",
       "      <td>6611</td>\n",
       "      <td>110925</td>\n",
       "    </tr>\n",
       "    <tr>\n",
       "      <th>...</th>\n",
       "      <td>...</td>\n",
       "      <td>...</td>\n",
       "      <td>...</td>\n",
       "      <td>...</td>\n",
       "      <td>...</td>\n",
       "      <td>...</td>\n",
       "      <td>...</td>\n",
       "      <td>...</td>\n",
       "      <td>...</td>\n",
       "      <td>...</td>\n",
       "    </tr>\n",
       "    <tr>\n",
       "      <th>594</th>\n",
       "      <td>Warehouse Associate</td>\n",
       "      <td>Male</td>\n",
       "      <td>25</td>\n",
       "      <td>2</td>\n",
       "      <td>Masters</td>\n",
       "      <td>Engineering</td>\n",
       "      <td>1</td>\n",
       "      <td>58130</td>\n",
       "      <td>6327</td>\n",
       "      <td>64457</td>\n",
       "    </tr>\n",
       "    <tr>\n",
       "      <th>78</th>\n",
       "      <td>Warehouse Associate</td>\n",
       "      <td>Female</td>\n",
       "      <td>39</td>\n",
       "      <td>5</td>\n",
       "      <td>College</td>\n",
       "      <td>Engineering</td>\n",
       "      <td>2</td>\n",
       "      <td>77584</td>\n",
       "      <td>9798</td>\n",
       "      <td>87382</td>\n",
       "    </tr>\n",
       "    <tr>\n",
       "      <th>220</th>\n",
       "      <td>Warehouse Associate</td>\n",
       "      <td>Female</td>\n",
       "      <td>51</td>\n",
       "      <td>4</td>\n",
       "      <td>High School</td>\n",
       "      <td>Management</td>\n",
       "      <td>5</td>\n",
       "      <td>121376</td>\n",
       "      <td>7832</td>\n",
       "      <td>129208</td>\n",
       "    </tr>\n",
       "    <tr>\n",
       "      <th>266</th>\n",
       "      <td>Warehouse Associate</td>\n",
       "      <td>Female</td>\n",
       "      <td>19</td>\n",
       "      <td>4</td>\n",
       "      <td>High School</td>\n",
       "      <td>Operations</td>\n",
       "      <td>1</td>\n",
       "      <td>37026</td>\n",
       "      <td>8636</td>\n",
       "      <td>45662</td>\n",
       "    </tr>\n",
       "    <tr>\n",
       "      <th>62</th>\n",
       "      <td>Warehouse Associate</td>\n",
       "      <td>Female</td>\n",
       "      <td>41</td>\n",
       "      <td>5</td>\n",
       "      <td>College</td>\n",
       "      <td>Operations</td>\n",
       "      <td>2</td>\n",
       "      <td>82453</td>\n",
       "      <td>9564</td>\n",
       "      <td>92017</td>\n",
       "    </tr>\n",
       "  </tbody>\n",
       "</table>\n",
       "<p>1000 rows × 10 columns</p>\n",
       "</div>"
      ],
      "text/plain": [
       "                JobTitle  Gender  Age  PerfEval    Education            Dept  \\\n",
       "574       Data Scientist    Male   56         3      Masters     Engineering   \n",
       "456       Data Scientist  Female   55         3      Masters  Administration   \n",
       "265       Data Scientist  Female   29         4  High School     Engineering   \n",
       "264       Data Scientist    Male   53         5  High School      Management   \n",
       "454       Data Scientist    Male   41         3      Masters  Administration   \n",
       "..                   ...     ...  ...       ...          ...             ...   \n",
       "594  Warehouse Associate    Male   25         2      Masters     Engineering   \n",
       "78   Warehouse Associate  Female   39         5      College     Engineering   \n",
       "220  Warehouse Associate  Female   51         4  High School      Management   \n",
       "266  Warehouse Associate  Female   19         4  High School      Operations   \n",
       "62   Warehouse Associate  Female   41         5      College      Operations   \n",
       "\n",
       "     Seniority  BasePay  Bonus  TotalPay  \n",
       "574          3    98165   5470    103635  \n",
       "456          4   123172   5797    128969  \n",
       "265          3    84021   9111     93132  \n",
       "264          2   102910   8335    111245  \n",
       "454          4   104314   6611    110925  \n",
       "..         ...      ...    ...       ...  \n",
       "594          1    58130   6327     64457  \n",
       "78           2    77584   9798     87382  \n",
       "220          5   121376   7832    129208  \n",
       "266          1    37026   8636     45662  \n",
       "62           2    82453   9564     92017  \n",
       "\n",
       "[1000 rows x 10 columns]"
      ]
     },
     "execution_count": 18,
     "metadata": {},
     "output_type": "execute_result"
    }
   ],
   "source": [
    "pay_gap"
   ]
  },
  {
   "cell_type": "code",
   "execution_count": 19,
   "id": "8286a66e",
   "metadata": {},
   "outputs": [],
   "source": [
    "#rename index Column\n",
    "pay_gap.index.rename('Ref_Number', inplace=True)"
   ]
  },
  {
   "cell_type": "code",
   "execution_count": 20,
   "id": "b11d2a7e",
   "metadata": {},
   "outputs": [
    {
     "data": {
      "text/html": [
       "<div>\n",
       "<style scoped>\n",
       "    .dataframe tbody tr th:only-of-type {\n",
       "        vertical-align: middle;\n",
       "    }\n",
       "\n",
       "    .dataframe tbody tr th {\n",
       "        vertical-align: top;\n",
       "    }\n",
       "\n",
       "    .dataframe thead th {\n",
       "        text-align: right;\n",
       "    }\n",
       "</style>\n",
       "<table border=\"1\" class=\"dataframe\">\n",
       "  <thead>\n",
       "    <tr style=\"text-align: right;\">\n",
       "      <th></th>\n",
       "      <th>JobTitle</th>\n",
       "      <th>Gender</th>\n",
       "      <th>Age</th>\n",
       "      <th>PerfEval</th>\n",
       "      <th>Education</th>\n",
       "      <th>Dept</th>\n",
       "      <th>Seniority</th>\n",
       "      <th>BasePay</th>\n",
       "      <th>Bonus</th>\n",
       "      <th>TotalPay</th>\n",
       "    </tr>\n",
       "    <tr>\n",
       "      <th>Ref_Number</th>\n",
       "      <th></th>\n",
       "      <th></th>\n",
       "      <th></th>\n",
       "      <th></th>\n",
       "      <th></th>\n",
       "      <th></th>\n",
       "      <th></th>\n",
       "      <th></th>\n",
       "      <th></th>\n",
       "      <th></th>\n",
       "    </tr>\n",
       "  </thead>\n",
       "  <tbody>\n",
       "    <tr>\n",
       "      <th>574</th>\n",
       "      <td>Data Scientist</td>\n",
       "      <td>Male</td>\n",
       "      <td>56</td>\n",
       "      <td>3</td>\n",
       "      <td>Masters</td>\n",
       "      <td>Engineering</td>\n",
       "      <td>3</td>\n",
       "      <td>98165</td>\n",
       "      <td>5470</td>\n",
       "      <td>103635</td>\n",
       "    </tr>\n",
       "    <tr>\n",
       "      <th>456</th>\n",
       "      <td>Data Scientist</td>\n",
       "      <td>Female</td>\n",
       "      <td>55</td>\n",
       "      <td>3</td>\n",
       "      <td>Masters</td>\n",
       "      <td>Administration</td>\n",
       "      <td>4</td>\n",
       "      <td>123172</td>\n",
       "      <td>5797</td>\n",
       "      <td>128969</td>\n",
       "    </tr>\n",
       "    <tr>\n",
       "      <th>265</th>\n",
       "      <td>Data Scientist</td>\n",
       "      <td>Female</td>\n",
       "      <td>29</td>\n",
       "      <td>4</td>\n",
       "      <td>High School</td>\n",
       "      <td>Engineering</td>\n",
       "      <td>3</td>\n",
       "      <td>84021</td>\n",
       "      <td>9111</td>\n",
       "      <td>93132</td>\n",
       "    </tr>\n",
       "    <tr>\n",
       "      <th>264</th>\n",
       "      <td>Data Scientist</td>\n",
       "      <td>Male</td>\n",
       "      <td>53</td>\n",
       "      <td>5</td>\n",
       "      <td>High School</td>\n",
       "      <td>Management</td>\n",
       "      <td>2</td>\n",
       "      <td>102910</td>\n",
       "      <td>8335</td>\n",
       "      <td>111245</td>\n",
       "    </tr>\n",
       "    <tr>\n",
       "      <th>454</th>\n",
       "      <td>Data Scientist</td>\n",
       "      <td>Male</td>\n",
       "      <td>41</td>\n",
       "      <td>3</td>\n",
       "      <td>Masters</td>\n",
       "      <td>Administration</td>\n",
       "      <td>4</td>\n",
       "      <td>104314</td>\n",
       "      <td>6611</td>\n",
       "      <td>110925</td>\n",
       "    </tr>\n",
       "    <tr>\n",
       "      <th>...</th>\n",
       "      <td>...</td>\n",
       "      <td>...</td>\n",
       "      <td>...</td>\n",
       "      <td>...</td>\n",
       "      <td>...</td>\n",
       "      <td>...</td>\n",
       "      <td>...</td>\n",
       "      <td>...</td>\n",
       "      <td>...</td>\n",
       "      <td>...</td>\n",
       "    </tr>\n",
       "    <tr>\n",
       "      <th>594</th>\n",
       "      <td>Warehouse Associate</td>\n",
       "      <td>Male</td>\n",
       "      <td>25</td>\n",
       "      <td>2</td>\n",
       "      <td>Masters</td>\n",
       "      <td>Engineering</td>\n",
       "      <td>1</td>\n",
       "      <td>58130</td>\n",
       "      <td>6327</td>\n",
       "      <td>64457</td>\n",
       "    </tr>\n",
       "    <tr>\n",
       "      <th>78</th>\n",
       "      <td>Warehouse Associate</td>\n",
       "      <td>Female</td>\n",
       "      <td>39</td>\n",
       "      <td>5</td>\n",
       "      <td>College</td>\n",
       "      <td>Engineering</td>\n",
       "      <td>2</td>\n",
       "      <td>77584</td>\n",
       "      <td>9798</td>\n",
       "      <td>87382</td>\n",
       "    </tr>\n",
       "    <tr>\n",
       "      <th>220</th>\n",
       "      <td>Warehouse Associate</td>\n",
       "      <td>Female</td>\n",
       "      <td>51</td>\n",
       "      <td>4</td>\n",
       "      <td>High School</td>\n",
       "      <td>Management</td>\n",
       "      <td>5</td>\n",
       "      <td>121376</td>\n",
       "      <td>7832</td>\n",
       "      <td>129208</td>\n",
       "    </tr>\n",
       "    <tr>\n",
       "      <th>266</th>\n",
       "      <td>Warehouse Associate</td>\n",
       "      <td>Female</td>\n",
       "      <td>19</td>\n",
       "      <td>4</td>\n",
       "      <td>High School</td>\n",
       "      <td>Operations</td>\n",
       "      <td>1</td>\n",
       "      <td>37026</td>\n",
       "      <td>8636</td>\n",
       "      <td>45662</td>\n",
       "    </tr>\n",
       "    <tr>\n",
       "      <th>62</th>\n",
       "      <td>Warehouse Associate</td>\n",
       "      <td>Female</td>\n",
       "      <td>41</td>\n",
       "      <td>5</td>\n",
       "      <td>College</td>\n",
       "      <td>Operations</td>\n",
       "      <td>2</td>\n",
       "      <td>82453</td>\n",
       "      <td>9564</td>\n",
       "      <td>92017</td>\n",
       "    </tr>\n",
       "  </tbody>\n",
       "</table>\n",
       "<p>1000 rows × 10 columns</p>\n",
       "</div>"
      ],
      "text/plain": [
       "                       JobTitle  Gender  Age  PerfEval    Education  \\\n",
       "Ref_Number                                                            \n",
       "574              Data Scientist    Male   56         3      Masters   \n",
       "456              Data Scientist  Female   55         3      Masters   \n",
       "265              Data Scientist  Female   29         4  High School   \n",
       "264              Data Scientist    Male   53         5  High School   \n",
       "454              Data Scientist    Male   41         3      Masters   \n",
       "...                         ...     ...  ...       ...          ...   \n",
       "594         Warehouse Associate    Male   25         2      Masters   \n",
       "78          Warehouse Associate  Female   39         5      College   \n",
       "220         Warehouse Associate  Female   51         4  High School   \n",
       "266         Warehouse Associate  Female   19         4  High School   \n",
       "62          Warehouse Associate  Female   41         5      College   \n",
       "\n",
       "                      Dept  Seniority  BasePay  Bonus  TotalPay  \n",
       "Ref_Number                                                       \n",
       "574            Engineering          3    98165   5470    103635  \n",
       "456         Administration          4   123172   5797    128969  \n",
       "265            Engineering          3    84021   9111     93132  \n",
       "264             Management          2   102910   8335    111245  \n",
       "454         Administration          4   104314   6611    110925  \n",
       "...                    ...        ...      ...    ...       ...  \n",
       "594            Engineering          1    58130   6327     64457  \n",
       "78             Engineering          2    77584   9798     87382  \n",
       "220             Management          5   121376   7832    129208  \n",
       "266             Operations          1    37026   8636     45662  \n",
       "62              Operations          2    82453   9564     92017  \n",
       "\n",
       "[1000 rows x 10 columns]"
      ]
     },
     "execution_count": 20,
     "metadata": {},
     "output_type": "execute_result"
    }
   ],
   "source": [
    "pay_gap"
   ]
  },
  {
   "cell_type": "code",
   "execution_count": 21,
   "id": "7a9211a8",
   "metadata": {},
   "outputs": [
    {
     "data": {
      "text/plain": [
       "(1000, 10)"
      ]
     },
     "execution_count": 21,
     "metadata": {},
     "output_type": "execute_result"
    }
   ],
   "source": [
    "pay_gap.shape"
   ]
  },
  {
   "cell_type": "code",
   "execution_count": 22,
   "id": "27e5216e",
   "metadata": {},
   "outputs": [],
   "source": [
    "#Review unique education levels and number of these"
   ]
  },
  {
   "cell_type": "code",
   "execution_count": 23,
   "id": "96d79781",
   "metadata": {},
   "outputs": [
    {
     "name": "stdout",
     "output_type": "stream",
     "text": [
      "Education Level: \n"
     ]
    },
    {
     "data": {
      "text/plain": [
       "High School    265\n",
       "Masters        256\n",
       "College        241\n",
       "PhD            238\n",
       "Name: Education, dtype: int64"
      ]
     },
     "execution_count": 23,
     "metadata": {},
     "output_type": "execute_result"
    }
   ],
   "source": [
    "print('Education Level: ')\n",
    "pay_gap.Education.value_counts()"
   ]
  },
  {
   "cell_type": "code",
   "execution_count": 24,
   "id": "8d3e8b28",
   "metadata": {},
   "outputs": [],
   "source": [
    "#Remove the column PerfEval"
   ]
  },
  {
   "cell_type": "code",
   "execution_count": 25,
   "id": "f691fefb",
   "metadata": {},
   "outputs": [],
   "source": [
    "pay_gap = pay_gap.drop('PerfEval', axis=1)"
   ]
  },
  {
   "cell_type": "code",
   "execution_count": 26,
   "id": "bda9b6fd",
   "metadata": {},
   "outputs": [
    {
     "name": "stdout",
     "output_type": "stream",
     "text": [
      "<class 'pandas.core.frame.DataFrame'>\n",
      "Int64Index: 1000 entries, 574 to 62\n",
      "Data columns (total 9 columns):\n",
      " #   Column     Non-Null Count  Dtype \n",
      "---  ------     --------------  ----- \n",
      " 0   JobTitle   1000 non-null   object\n",
      " 1   Gender     1000 non-null   object\n",
      " 2   Age        1000 non-null   int64 \n",
      " 3   Education  1000 non-null   object\n",
      " 4   Dept       1000 non-null   object\n",
      " 5   Seniority  1000 non-null   int64 \n",
      " 6   BasePay    1000 non-null   int64 \n",
      " 7   Bonus      1000 non-null   int64 \n",
      " 8   TotalPay   1000 non-null   int64 \n",
      "dtypes: int64(5), object(4)\n",
      "memory usage: 78.1+ KB\n"
     ]
    }
   ],
   "source": [
    "pay_gap.info()"
   ]
  },
  {
   "cell_type": "code",
   "execution_count": null,
   "id": "0bb42577",
   "metadata": {},
   "outputs": [],
   "source": []
  },
  {
   "cell_type": "markdown",
   "id": "7c49c81f",
   "metadata": {},
   "source": [
    "# Analyse Data"
   ]
  },
  {
   "cell_type": "code",
   "execution_count": 27,
   "id": "a55eeb02",
   "metadata": {},
   "outputs": [],
   "source": [
    "#use Regex to extract a pattern in data (10)"
   ]
  },
  {
   "cell_type": "code",
   "execution_count": null,
   "id": "bc21dfb0",
   "metadata": {},
   "outputs": [],
   "source": [
    "\n"
   ]
  },
  {
   "cell_type": "code",
   "execution_count": 235,
   "id": "27e177c3",
   "metadata": {},
   "outputs": [],
   "source": [
    "#Replace missing values or drop duplicates (10)"
   ]
  },
  {
   "cell_type": "code",
   "execution_count": null,
   "id": "c98b608d",
   "metadata": {},
   "outputs": [],
   "source": []
  },
  {
   "cell_type": "code",
   "execution_count": 236,
   "id": "32e25f5e",
   "metadata": {},
   "outputs": [],
   "source": [
    "#Make use of iterators(5)"
   ]
  },
  {
   "cell_type": "code",
   "execution_count": null,
   "id": "97e80848",
   "metadata": {},
   "outputs": [],
   "source": []
  },
  {
   "cell_type": "code",
   "execution_count": 237,
   "id": "23361f6d",
   "metadata": {},
   "outputs": [],
   "source": [
    "# Merge DataFrames(5)"
   ]
  },
  {
   "cell_type": "code",
   "execution_count": null,
   "id": "0844736f",
   "metadata": {},
   "outputs": [],
   "source": []
  },
  {
   "cell_type": "markdown",
   "id": "3ef972df",
   "metadata": {},
   "source": [
    "# Python"
   ]
  },
  {
   "cell_type": "code",
   "execution_count": 238,
   "id": "883523c3",
   "metadata": {},
   "outputs": [],
   "source": [
    "#Define a custom function to create reusable code (5)"
   ]
  },
  {
   "cell_type": "code",
   "execution_count": 239,
   "id": "095afd1e",
   "metadata": {},
   "outputs": [],
   "source": [
    "#NumPy (5)"
   ]
  },
  {
   "cell_type": "code",
   "execution_count": 240,
   "id": "92841d69",
   "metadata": {},
   "outputs": [],
   "source": [
    "#Dictionary or Lists (5)"
   ]
  },
  {
   "cell_type": "markdown",
   "id": "e7fd104c",
   "metadata": {},
   "source": [
    "# Machine Learning (30)"
   ]
  },
  {
   "cell_type": "code",
   "execution_count": 241,
   "id": "e68a3038",
   "metadata": {},
   "outputs": [],
   "source": [
    "#Predict a target variable with Supervised or Unsupervised algorithm"
   ]
  },
  {
   "cell_type": "code",
   "execution_count": 104,
   "id": "03998d82",
   "metadata": {},
   "outputs": [],
   "source": [
    "#Perform hyper parameter tuning or boosting, whichever is relevant to your model. If it is not relevant, justify that in your report and Python comments\n"
   ]
  },
  {
   "cell_type": "markdown",
   "id": "dcdb2793",
   "metadata": {},
   "source": [
    "# Visualise (10)"
   ]
  },
  {
   "cell_type": "code",
   "execution_count": 105,
   "id": "8d199496",
   "metadata": {},
   "outputs": [],
   "source": [
    "#Present two charts with Seaborn or Matplotlib"
   ]
  },
  {
   "cell_type": "markdown",
   "id": "b452fa15",
   "metadata": {},
   "source": [
    "Insights"
   ]
  },
  {
   "cell_type": "code",
   "execution_count": 113,
   "id": "775e121c",
   "metadata": {},
   "outputs": [
    {
     "data": {
      "text/plain": [
       "[Text(0.5, 1.0, 'female to male Total Pay based on education')]"
      ]
     },
     "execution_count": 113,
     "metadata": {},
     "output_type": "execute_result"
    },
    {
     "data": {
      "image/png": "[encoded data removed]",
      "text/plain": [
       "<Figure size 1296x504 with 1 Axes>"
      ]
     },
     "metadata": {},
     "output_type": "display_data"
    }
   ],
   "source": [
    "# using barplot, identify if there's a difference in pay based on educationfig, ax = plt.subplots()\n",
    "fig, ax = plt.subplots()\n",
    "fig.set_size_inches(18, 7)\n",
    "sns.barplot(x= pay_gap['TotalPay'], y= pay_gap['Education'],hue= pay_gap[\"Gender\"]).set( title= 'female to male Total Pay based on education')"
   ]
  },
  {
   "cell_type": "code",
   "execution_count": 150,
   "id": "4aecc12c",
   "metadata": {},
   "outputs": [
    {
     "data": {
      "image/png": "[encoded data removed]",
      "text/plain": [
       "<Figure size 1080x576 with 1 Axes>"
      ]
     },
     "metadata": {},
     "output_type": "display_data"
    }
   ],
   "source": [
    "plt.figure(figsize=(15, 8))\n",
    "plt.style.use('fivethirtyeight')\n",
    "#sns.set_style('ticks')\n",
    "PROPS = {\n",
    "    'boxprops':{'facecolor':'none', 'edgecolor':'black', 'linewidth':0.3},\n",
    "    'medianprops':{'color':'black', 'linewidth':1.5},\n",
    "    'whiskerprops':{'color':'black', 'linewidth':0.3},\n",
    "    'capprops':{'color':'black', 'linewidth':0.3},\n",
    "}\n",
    "\n",
    "sns.boxplot(x='Education', data=pay_gap2, y='Age', hue='Gender', showfliers=False,  **PROPS)\n",
    "sns.stripplot(data=pay_gap2, x='Education', hue='Gender', y='Age', dodge=True)\n",
    "\n",
    "sns.despine()\n",
    "plt.legend(loc='upper right')\n",
    "plt.show()"
   ]
  },
  {
   "cell_type": "code",
   "execution_count": 127,
   "id": "5ad40835",
   "metadata": {},
   "outputs": [
    {
     "name": "stdout",
     "output_type": "stream",
     "text": [
      "Women make 275670 more than men as a Data Scientist\n",
      "Women make 141723 less than Men as a Driver\n",
      "Women make 879310 less than Men as a Financial Analyst\n",
      "Women make 86304 less than Men as a Graphic Designer\n",
      "Women make 368876 more than men as a IT\n",
      "Women make 7028502 less than Men as a Manager\n",
      "Women make 7831095 more than men as a Marketing Associate\n",
      "Women make 922088 less than Men as a Sales Associate\n",
      "Women make 10607236 less than Men as a Software Engineer\n",
      "Women make 495862 more than men as a Warehouse Associate\n"
     ]
    }
   ],
   "source": [
    "diff = (female['TotalPay'] - male['TotalPay']).tolist()\n",
    "titles = male.index.tolist()\n",
    "\n",
    "for i in range(len(diff)):\n",
    "    if diff[i] > 0:\n",
    "        print('Women make ' + str(int(diff[i])) + ' more than men as a ' + titles[i])\n",
    "    else:\n",
    "        print('Women make ' + str(int(-diff[i])) + ' less than Men as a ' + titles[i])"
   ]
  },
  {
   "cell_type": "code",
   "execution_count": 49,
   "id": "14b9bab4",
   "metadata": {},
   "outputs": [],
   "source": [
    "#5 insights from the project (10)"
   ]
  },
  {
   "cell_type": "code",
   "execution_count": 171,
   "id": "d82bc56d",
   "metadata": {},
   "outputs": [],
   "source": [
    "pattern = r'\\banalyst\\b'"
   ]
  },
  {
   "cell_type": "code",
   "execution_count": null,
   "id": "697a2d4e",
   "metadata": {},
   "outputs": [],
   "source": [
    "#Reg Expression"
   ]
  },
  {
   "cell_type": "code",
   "execution_count": 173,
   "id": "c49721f2",
   "metadata": {},
   "outputs": [],
   "source": [
    "def count_analysts(pay_gap, JobTitle, pattern):\n",
    "    count = 0\n",
    "    for value in pay_gap[JobTitle]:\n",
    "        matches = re.findall(pattern, value, flags=re.IGNORECASE)\n",
    "        count += len(matches)\n",
    "    return count"
   ]
  },
  {
   "cell_type": "code",
   "execution_count": 186,
   "id": "6d265ad6",
   "metadata": {},
   "outputs": [],
   "source": [
    "analyst_count = count_analysts(pay_gap, 'JobTitle', pattern)"
   ]
  },
  {
   "cell_type": "code",
   "execution_count": 187,
   "id": "0a948502",
   "metadata": {},
   "outputs": [
    {
     "name": "stdout",
     "output_type": "stream",
     "text": [
      "The word \"analyst\" appears 107 times in the JobTitle column.\n"
     ]
    }
   ],
   "source": [
    "print(f'The word \"analyst\" appears {analyst_count} times in the JobTitle column.')"
   ]
  },
  {
   "cell_type": "code",
   "execution_count": 197,
   "id": "ec429e59",
   "metadata": {},
   "outputs": [],
   "source": [
    "# define function to get unique words from a column\n",
    "def get_unique_words(pay_gap, JobTitle):\n",
    "    all_text = ' '.join(pay_gap[JobTitle].astype(str).tolist())\n",
    "    all_words = all_text.split()\n",
    "    return set(all_words)"
   ]
  },
  {
   "cell_type": "code",
   "execution_count": 201,
   "id": "5d1f2940",
   "metadata": {},
   "outputs": [
    {
     "name": "stdout",
     "output_type": "stream",
     "text": [
      "The unique words in the \"JobTitle\" column are: {'Financial', 'Marketing', 'Scientist', 'Analyst', 'Graphic', 'Software', 'Driver', 'Engineer', 'IT', 'Sales', 'Warehouse', 'Associate', 'Data', 'Manager', 'Designer'}\n"
     ]
    }
   ],
   "source": [
    "# call function on example dataframe and print results\n",
    "unique_words = get_unique_words(pay_gap, 'JobTitle')\n",
    "print(f'The unique words in the \"JobTitle\" column are: {unique_words}')"
   ]
  },
  {
   "cell_type": "code",
   "execution_count": 203,
   "id": "7ce5c357",
   "metadata": {},
   "outputs": [],
   "source": [
    "# define list of 15 unique words to search for"
   ]
  },
  {
   "cell_type": "code",
   "execution_count": 204,
   "id": "f6a9d751",
   "metadata": {},
   "outputs": [],
   "source": [
    "unique_words = ['Financial', 'Marketing', 'Scientist', 'Analyst', 'Graphic', 'Software', 'Driver', 'Engineer', 'IT', 'Sales', 'Warehouse', 'Associate', 'Data', 'Manager', 'Designer']"
   ]
  },
  {
   "cell_type": "code",
   "execution_count": 205,
   "id": "2d258a9f",
   "metadata": {},
   "outputs": [],
   "source": [
    "# create function to count occurrences of each unique word in column"
   ]
  },
  {
   "cell_type": "code",
   "execution_count": 206,
   "id": "8a2f536f",
   "metadata": {},
   "outputs": [],
   "source": [
    "def count_words(pay_gap, JobTitle, words):\n",
    "    counts = {word: 0 for word in words}\n",
    "    for value in pay_gap[JobTitle]:\n",
    "        for word in words:\n",
    "            pattern = fr'\\b{word}\\b'\n",
    "            matches = re.findall(pattern, value, flags=re.IGNORECASE)\n",
    "            counts[word] += len(matches)\n",
    "    return counts"
   ]
  },
  {
   "cell_type": "code",
   "execution_count": 207,
   "id": "b5c106b6",
   "metadata": {},
   "outputs": [
    {
     "name": "stdout",
     "output_type": "stream",
     "text": [
      "The word \"Financial\" appears 107 times in the JobTitle column.\n",
      "The word \"Marketing\" appears 118 times in the JobTitle column.\n",
      "The word \"Scientist\" appears 107 times in the JobTitle column.\n",
      "The word \"Analyst\" appears 107 times in the JobTitle column.\n",
      "The word \"Graphic\" appears 98 times in the JobTitle column.\n",
      "The word \"Software\" appears 109 times in the JobTitle column.\n",
      "The word \"Driver\" appears 91 times in the JobTitle column.\n",
      "The word \"Engineer\" appears 109 times in the JobTitle column.\n",
      "The word \"IT\" appears 96 times in the JobTitle column.\n",
      "The word \"Sales\" appears 94 times in the JobTitle column.\n",
      "The word \"Warehouse\" appears 90 times in the JobTitle column.\n",
      "The word \"Associate\" appears 302 times in the JobTitle column.\n",
      "The word \"Data\" appears 107 times in the JobTitle column.\n",
      "The word \"Manager\" appears 90 times in the JobTitle column.\n",
      "The word \"Designer\" appears 98 times in the JobTitle column.\n"
     ]
    }
   ],
   "source": [
    "# call function and print results\n",
    "word_counts = count_words(pay_gap, 'JobTitle', unique_words)\n",
    "for word, count in word_counts.items():\n",
    "    print(f'The word \"{word}\" appears {count} times in the JobTitle column.')"
   ]
  }
 ],
 "metadata": {
  "kernelspec": {
   "display_name": "Python 3 (ipykernel)",
   "language": "python",
   "name": "python3"
  },
  "language_info": {
   "codemirror_mode": {
    "name": "ipython",
    "version": 3
   },
   "file_extension": ".py",
   "mimetype": "text/x-python",
   "name": "python",
   "nbconvert_exporter": "python",
   "pygments_lexer": "ipython3",
   "version": "3.9.12"
  }
 },
 "nbformat": 4,
 "nbformat_minor": 5
}
